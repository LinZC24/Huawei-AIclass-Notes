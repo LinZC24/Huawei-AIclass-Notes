{
 "cells": [
  {
   "attachments": {},
   "cell_type": "markdown",
   "metadata": {},
   "source": [
    "# 常用工具库  \n",
    "##### Python中工具库可以分为两种  \n",
    "-标准库：安装Python后可以直接使用。如：os，sys，time等模块  \n",
    "-第三方库：需要安装之后才能使用的库。如numpy（用于科学计算），pandas（用于数据处理），scikit-learn（机器学习库）  \n",
    "### sys模块的使用  \n",
    "sys模块负责程序与Python解释器的交互，提供了一系列函数和变量，用于操控Python运行时的环境"
   ]
  },
  {
   "cell_type": "code",
   "execution_count": null,
   "metadata": {},
   "outputs": [
    {
     "name": "stdout",
     "output_type": "stream",
     "text": [
      "0\n",
      "1\n",
      "2\n",
      "3\n",
      "4\n",
      "5\n"
     ]
    },
    {
     "ename": "SystemExit",
     "evalue": "0",
     "output_type": "error",
     "traceback": [
      "An exception has occurred, use %tb to see the full traceback.\n",
      "\u001b[1;31mSystemExit\u001b[0m\u001b[1;31m:\u001b[0m 0\n"
     ]
    },
    {
     "name": "stderr",
     "output_type": "stream",
     "text": [
      "C:\\Users\\Lzc\\AppData\\Local\\Packages\\PythonSoftwareFoundation.Python.3.11_qbz5n2kfra8p0\\LocalCache\\local-packages\\Python311\\site-packages\\IPython\\core\\interactiveshell.py:3450: UserWarning: To exit: use 'exit', 'quit', or Ctrl-D.\n",
      "  warn(\"To exit: use 'exit', 'quit', or Ctrl-D.\", stacklevel=1)\n"
     ]
    }
   ],
   "source": [
    "# sys.exit([n]) 此方法可以使当前程序退出（终止当前程序），n为0时正常退出，其他值表示异常退出\n",
    "import sys\n",
    "for i in range(100):\n",
    "    print(i)\n",
    "    if i == 5:\n",
    "        sys.exit(0) # 在程序终止后返回传递给exit的值"
   ]
  },
  {
   "cell_type": "code",
   "execution_count": null,
   "metadata": {},
   "outputs": [
    {
     "data": {
      "text/plain": [
       "['d:\\\\Programming\\\\Python\\\\2023Winter\\\\HUAWEI_CloudAI',\n",
       " 'C:\\\\Program Files\\\\WindowsApps\\\\PythonSoftwareFoundation.Python.3.11_3.11.496.0_x64__qbz5n2kfra8p0\\\\python311.zip',\n",
       " 'C:\\\\Program Files\\\\WindowsApps\\\\PythonSoftwareFoundation.Python.3.11_3.11.496.0_x64__qbz5n2kfra8p0\\\\Lib',\n",
       " 'C:\\\\Program Files\\\\WindowsApps\\\\PythonSoftwareFoundation.Python.3.11_3.11.496.0_x64__qbz5n2kfra8p0\\\\DLLs',\n",
       " '',\n",
       " 'C:\\\\Users\\\\Lzc\\\\AppData\\\\Local\\\\Packages\\\\PythonSoftwareFoundation.Python.3.11_qbz5n2kfra8p0\\\\LocalCache\\\\local-packages\\\\Python311\\\\site-packages',\n",
       " 'C:\\\\Users\\\\Lzc\\\\AppData\\\\Local\\\\Packages\\\\PythonSoftwareFoundation.Python.3.11_qbz5n2kfra8p0\\\\LocalCache\\\\local-packages\\\\Python311\\\\site-packages\\\\win32',\n",
       " 'C:\\\\Users\\\\Lzc\\\\AppData\\\\Local\\\\Packages\\\\PythonSoftwareFoundation.Python.3.11_qbz5n2kfra8p0\\\\LocalCache\\\\local-packages\\\\Python311\\\\site-packages\\\\win32\\\\lib',\n",
       " 'C:\\\\Users\\\\Lzc\\\\AppData\\\\Local\\\\Packages\\\\PythonSoftwareFoundation.Python.3.11_qbz5n2kfra8p0\\\\LocalCache\\\\local-packages\\\\Python311\\\\site-packages\\\\Pythonwin',\n",
       " 'C:\\\\Program Files\\\\WindowsApps\\\\PythonSoftwareFoundation.Python.3.11_3.11.496.0_x64__qbz5n2kfra8p0',\n",
       " 'C:\\\\Program Files\\\\WindowsApps\\\\PythonSoftwareFoundation.Python.3.11_3.11.496.0_x64__qbz5n2kfra8p0\\\\Lib\\\\site-packages']"
      ]
     },
     "execution_count": 2,
     "metadata": {},
     "output_type": "execute_result"
    }
   ],
   "source": [
    "# sys.path 获取模块搜索路径\n",
    "sys.path"
   ]
  },
  {
   "cell_type": "code",
   "execution_count": null,
   "metadata": {},
   "outputs": [
    {
     "data": {
      "text/plain": [
       "'win32'"
      ]
     },
     "execution_count": 3,
     "metadata": {},
     "output_type": "execute_result"
    }
   ],
   "source": [
    "# sys.platform 获取当前系统平台\n",
    "sys.platform"
   ]
  },
  {
   "attachments": {},
   "cell_type": "markdown",
   "metadata": {},
   "source": [
    "### os模块的使用  \n",
    "os模块负责程序与操作系统的交互，提供了访问操作系统底层的接口"
   ]
  },
  {
   "cell_type": "code",
   "execution_count": null,
   "metadata": {},
   "outputs": [
    {
     "name": "stdout",
     "output_type": "stream",
     "text": [
      "当前进程id:  23012\n",
      "当前父进程id:  16596\n",
      "当前路径为： d:\\Programming\\Python\\2023Winter\\HUAWEI_CloudAI\n",
      "修改后当前所在路径为： C:\\\n",
      "当前目录下的文件有： ['class2-1.ipynb', 'class2-2-1.ipynb', 'class2-2-2.ipynb', 'class2-2-3.ipynb', 'class2-2-4.ipynb', 'class2-3-1.ipynb', 'class2-4-1.ipynb', 'class2-4-2.ipynb', 'class2-5-1.ipynb', 'class2-5-2.ipynb', 'text.txt', 'text1.txt']\n",
      "d:\\Programming\\Python\\2023Winter\\HUAWEI_CloudAI\\class2-1.ipynb\n",
      "d:\\Programming\\Python\\2023Winter\\HUAWEI_CloudAI\\class2-2-1.ipynb\n",
      "d:\\Programming\\Python\\2023Winter\\HUAWEI_CloudAI\\class2-2-2.ipynb\n",
      "d:\\Programming\\Python\\2023Winter\\HUAWEI_CloudAI\\class2-2-3.ipynb\n",
      "d:\\Programming\\Python\\2023Winter\\HUAWEI_CloudAI\\class2-2-4.ipynb\n",
      "d:\\Programming\\Python\\2023Winter\\HUAWEI_CloudAI\\class2-3-1.ipynb\n",
      "d:\\Programming\\Python\\2023Winter\\HUAWEI_CloudAI\\class2-4-1.ipynb\n",
      "d:\\Programming\\Python\\2023Winter\\HUAWEI_CloudAI\\class2-4-2.ipynb\n",
      "d:\\Programming\\Python\\2023Winter\\HUAWEI_CloudAI\\class2-5-1.ipynb\n",
      "d:\\Programming\\Python\\2023Winter\\HUAWEI_CloudAI\\class2-5-2.ipynb\n",
      "d:\\Programming\\Python\\2023Winter\\HUAWEI_CloudAI\\text.txt\n",
      "d:\\Programming\\Python\\2023Winter\\HUAWEI_CloudAI\\text1.txt\n"
     ]
    },
    {
     "ename": "",
     "evalue": "",
     "output_type": "error",
     "traceback": [
      "\u001b[1;31m在当前单元格或上一个单元格中执行代码时 Kernel 崩溃。请查看单元格中的代码，以确定故障的可能原因。有关详细信息，请单击 <a href='https://aka.ms/vscodeJupyterKernelCrash'>此处</a>。有关更多详细信息，请查看 Jupyter <a href='command:jupyter.viewOutput'>log</a>。"
     ]
    }
   ],
   "source": [
    "import os\n",
    "# os.getpid() 获取当前进程id\n",
    "print('当前进程id: ', os.getpid())\n",
    "\n",
    "# os.getppid() 获取当前父进程id\n",
    "print('当前父进程id: ', os.getppid())\n",
    "\n",
    "# os.getcwd() 获取当前所在路径\n",
    "cwd = os.getcwd()\n",
    "print('当前路径为：', cwd)\n",
    "\n",
    "# os.chdir(path) 改变当前工作目录\n",
    "os.chdir('C:\\\\')\n",
    "print('修改后当前所在路径为：', os.getcwd())\n",
    "\n",
    "# os.listdir() 返回目录下所有文件\n",
    "print('当前目录下的文件有：', os.listdir(cwd))\n",
    "\n",
    "# os.walk() 输出当前路径下所有文件\n",
    "for root, dirs, files in os.walk(cwd, topdown= False): # root（当前文件所在目录） dirs（当前所有文件夹） files（当前所有文件）\n",
    "    for name in files:\n",
    "        print(os.path.join(root, name))\n",
    "    for name in dirs:\n",
    "        print(os.path.join(root, name))"
   ]
  },
  {
   "cell_type": "code",
   "execution_count": 1,
   "metadata": {},
   "outputs": [
    {
     "name": "stdout",
     "output_type": "stream",
     "text": [
      "text.txt的绝对路径为： d:\\Programming\\Python\\2023Winter\\HUAWEI_CloudAI\\text.txt\n",
      "text.txt是否存在： True\n",
      "text.txt的文件大小： 21\n",
      "text.txt是否为文件： True\n",
      "text.txt是否为文件夹： False\n"
     ]
    }
   ],
   "source": [
    "# os.path模块：主要用于获取文件的属性\n",
    "import os\n",
    "#  os.path.abspath(path) 返回绝对路径\n",
    "print('text.txt的绝对路径为：', os.path.abspath('text.txt'))\n",
    "\n",
    "# os.path.exists(path) 文件存在则返回True，不存在返回False\n",
    "print('text.txt是否存在：', os.path.exists('text.txt'))\n",
    "\n",
    "# os.path.getsize(path) 返回文件大小，如果文件不存在就返回错误\n",
    "print('text.txt的文件大小：', os.path.getsize('text.txt'))\n",
    "\n",
    "# os.path.isfile(path) 判断路径是否为文件\n",
    "print('text.txt是否为文件：', os.path.isfile('text.txt'))\n",
    "\n",
    "# os.path.isdir(path) 判断路径是否为文件夹\n",
    "print('text.txt是否为文件夹：', os.path.isdir('text.txt'))"
   ]
  },
  {
   "attachments": {},
   "cell_type": "markdown",
   "metadata": {},
   "source": [
    "##### time模块的使用  \n",
    "time模块时Python中处理时间的一个重要模块，包含了许多有关时间操作的方法"
   ]
  },
  {
   "cell_type": "code",
   "execution_count": 2,
   "metadata": {},
   "outputs": [
    {
     "name": "stdout",
     "output_type": "stream",
     "text": [
      "时间戳： 1675564718.6080365\n",
      "本地时间为： time.struct_time(tm_year=2023, tm_mon=2, tm_mday=5, tm_hour=10, tm_min=38, tm_sec=38, tm_wday=6, tm_yday=36, tm_isdst=0)\n",
      "本地时间为： Sun Feb  5 10:38:38 2023\n",
      "2023-02-05 10:38:38\n"
     ]
    }
   ],
   "source": [
    "import time\n",
    "# time.time() 用于获取当前时间戳\n",
    "time_now = time.time()\n",
    "print('时间戳：', time_now)\n",
    "\n",
    "# time.localtime([secs]) 获取时间元组，如果未提供secs或为None，则使用由time()返回的当前时间\n",
    "localtime = time.localtime(time_now)\n",
    "print('本地时间为：', localtime)\n",
    "\n",
    "# time.asctime([t]) 获取格式化的时间，将gmtime()或localtime()返回的表示时间的元组或struct_time转换为字符串  如果未提供t，使用localtime()返回的当前时间\n",
    "localtime = time.asctime(localtime)\n",
    "print('本地时间为：', localtime)\n",
    "\n",
    "# time.strftime(format[, t]) 接收时间元组，并返回以可读字符串表示的当地时间，格式由参数format决定\n",
    "print(time.strftime('%Y-%m-%d %H:%M:%S', time.localtime()))"
   ]
  }
 ],
 "metadata": {
  "kernelspec": {
   "display_name": "Python 3",
   "language": "python",
   "name": "python3"
  },
  "language_info": {
   "codemirror_mode": {
    "name": "ipython",
    "version": 3
   },
   "file_extension": ".py",
   "mimetype": "text/x-python",
   "name": "python",
   "nbconvert_exporter": "python",
   "pygments_lexer": "ipython3",
   "version": "3.11.1"
  },
  "orig_nbformat": 4,
  "vscode": {
   "interpreter": {
    "hash": "22b6aa23ebdb95c31771a605332d65b96d6e70a70a8e5cf021766a53e709a3c7"
   }
  }
 },
 "nbformat": 4,
 "nbformat_minor": 2
}
