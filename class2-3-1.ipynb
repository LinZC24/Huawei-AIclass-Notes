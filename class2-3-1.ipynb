{
 "cells": [
  {
   "attachments": {},
   "cell_type": "markdown",
   "metadata": {},
   "source": [
    "# 控制流  \n",
    "## if判断语句  \n",
    "Python中的条件控制是通过条件语句的执行结果（True或False）来决定执行的代码块  \n",
    "Python中用if来控制程序执行，如果有多个条件判断，可以用if-elif-else形式"
   ]
  },
  {
   "cell_type": "code",
   "execution_count": 3,
   "metadata": {},
   "outputs": [
    {
     "name": "stdout",
     "output_type": "stream",
     "text": [
      "及格\n"
     ]
    }
   ],
   "source": [
    "a = input(\"score: \")\n",
    "a = float(a)\n",
    "if(100 >= a >= 60):\n",
    "    print('及格')\n",
    "elif(60 > a >= 0):\n",
    "    print('不及格')\n",
    "else:\n",
    "    print('分数错误')"
   ]
  },
  {
   "attachments": {},
   "cell_type": "markdown",
   "metadata": {},
   "source": [
    "Python中判断条件也可以为隐式的True和False：0、None、空值默认为False，其他都为True  \n",
    "同时，True默认为1，False默认为0，它们都可以参与计算"
   ]
  },
  {
   "cell_type": "code",
   "execution_count": 4,
   "metadata": {},
   "outputs": [
    {
     "name": "stdout",
     "output_type": "stream",
     "text": [
      "T\n",
      "Python\n"
     ]
    }
   ],
   "source": [
    "if 0: # 判断为false\n",
    "  print('F')\n",
    "if 1:\n",
    "  print('T')\n",
    "if 'Python':\n",
    "  print('Python')\n",
    "if None: # 判断为false\n",
    "  print('None')"
   ]
  },
  {
   "attachments": {},
   "cell_type": "markdown",
   "metadata": {},
   "source": [
    "## 循环语句for  \n",
    "Python中的for语句区别于其他语言中的for循环，它接受可迭代对象（例如序列）作为其参数，每次迭代其中的一个元素"
   ]
  },
  {
   "cell_type": "code",
   "execution_count": 5,
   "metadata": {},
   "outputs": [
    {
     "name": "stdout",
     "output_type": "stream",
     "text": [
      "循环第1次\n",
      "循环第2次\n",
      "循环第3次\n"
     ]
    }
   ],
   "source": [
    "for i in [1, 2, 3]:\n",
    "    print(\"循环第%d次\"%(i))"
   ]
  },
  {
   "attachments": {},
   "cell_type": "markdown",
   "metadata": {},
   "source": [
    "for循环后也可以加入else，在循环结束后（正常结束时）会执行"
   ]
  },
  {
   "cell_type": "code",
   "execution_count": 7,
   "metadata": {},
   "outputs": [
    {
     "name": "stdout",
     "output_type": "stream",
     "text": [
      "循环第1次\n",
      "循环第2次\n",
      "循环第3次\n",
      "循环完毕\n"
     ]
    }
   ],
   "source": [
    "for i in [1, 2, 3]:\n",
    "    print(\"循环第%d次\"%(i))\n",
    "else:\n",
    "  print('循环完毕')"
   ]
  },
  {
   "cell_type": "code",
   "execution_count": 8,
   "metadata": {},
   "outputs": [],
   "source": [
    "### 嵌套循环"
   ]
  },
  {
   "cell_type": "code",
   "execution_count": 11,
   "metadata": {},
   "outputs": [
    {
     "name": "stdout",
     "output_type": "stream",
     "text": [
      "1 X 1 = 1    \n",
      "1 X 2 = 2    2 X 2 = 4    \n",
      "1 X 3 = 3    2 X 3 = 6    3 X 3 = 9    \n",
      "1 X 4 = 4    2 X 4 = 8    3 X 4 = 12   4 X 4 = 16   \n",
      "1 X 5 = 5    2 X 5 = 10   3 X 5 = 15   4 X 5 = 20   5 X 5 = 25   \n",
      "1 X 6 = 6    2 X 6 = 12   3 X 6 = 18   4 X 6 = 24   5 X 6 = 30   6 X 6 = 36   \n",
      "1 X 7 = 7    2 X 7 = 14   3 X 7 = 21   4 X 7 = 28   5 X 7 = 35   6 X 7 = 42   7 X 7 = 49   \n",
      "1 X 8 = 8    2 X 8 = 16   3 X 8 = 24   4 X 8 = 32   5 X 8 = 40   6 X 8 = 48   7 X 8 = 56   8 X 8 = 64   \n",
      "1 X 9 = 9    2 X 9 = 18   3 X 9 = 27   4 X 9 = 36   5 X 9 = 45   6 X 9 = 54   7 X 9 = 63   8 X 9 = 72   9 X 9 = 81   \n"
     ]
    }
   ],
   "source": [
    "# 使用for循环完成乘法口诀\n",
    "for i in range(1, 10):\n",
    "    for j in range(1, i + 1):\n",
    "        print('%d X %d = %-2d'%(j, i, j * i), end = '   ')\n",
    "    print()"
   ]
  },
  {
   "attachments": {},
   "cell_type": "markdown",
   "metadata": {},
   "source": [
    "使用嵌套循环时注意不宜过多嵌套"
   ]
  },
  {
   "attachments": {},
   "cell_type": "markdown",
   "metadata": {},
   "source": [
    "## while循环  \n",
    "Python中while语句用于执行循环程序，在某条件下循环执行某段程序，以处理需要重复处理的任务  \n",
    "Python中没有do-while"
   ]
  },
  {
   "cell_type": "code",
   "execution_count": 12,
   "metadata": {},
   "outputs": [
    {
     "name": "stdout",
     "output_type": "stream",
     "text": [
      "5\n",
      "4\n",
      "3\n",
      "2\n",
      "1\n"
     ]
    }
   ],
   "source": [
    "i = 5\n",
    "while i > 0:\n",
    "    print(i)\n",
    "    i -= 1"
   ]
  },
  {
   "attachments": {},
   "cell_type": "markdown",
   "metadata": {},
   "source": [
    "### while循环可以添加false"
   ]
  },
  {
   "cell_type": "code",
   "execution_count": 14,
   "metadata": {},
   "outputs": [
    {
     "name": "stdout",
     "output_type": "stream",
     "text": [
      "5\n",
      "4\n",
      "3\n",
      "2\n",
      "1\n",
      "循环结束\n"
     ]
    }
   ],
   "source": [
    "i = 5\n",
    "while i > 0:\n",
    "    print(i)\n",
    "    i -= 1\n",
    "else:\n",
    "    print('循环结束')"
   ]
  },
  {
   "attachments": {},
   "cell_type": "markdown",
   "metadata": {},
   "source": [
    "### 使用while循环时应避免死循环和空循环"
   ]
  },
  {
   "cell_type": "code",
   "execution_count": null,
   "metadata": {},
   "outputs": [],
   "source": [
    "while True: # 死循环\n",
    "    pass # 空循环"
   ]
  },
  {
   "attachments": {},
   "cell_type": "markdown",
   "metadata": {},
   "source": [
    "## break和continue"
   ]
  },
  {
   "cell_type": "code",
   "execution_count": 15,
   "metadata": {},
   "outputs": [
    {
     "name": "stdout",
     "output_type": "stream",
     "text": [
      "0\n",
      "2\n",
      "4\n",
      "6\n",
      "8\n"
     ]
    }
   ],
   "source": [
    "# 使用continue跳过当次循环\n",
    "for i in range(10):\n",
    "    if i % 2: # 只打印偶数\n",
    "        continue\n",
    "    print(i)"
   ]
  },
  {
   "cell_type": "code",
   "execution_count": 16,
   "metadata": {},
   "outputs": [
    {
     "name": "stdout",
     "output_type": "stream",
     "text": [
      "0\n",
      "1\n"
     ]
    }
   ],
   "source": [
    "# 使用break跳出当前循环\n",
    "for i in range(10):\n",
    "    if i == 2:\n",
    "        break\n",
    "    print(i)"
   ]
  },
  {
   "cell_type": "code",
   "execution_count": 17,
   "metadata": {},
   "outputs": [
    {
     "name": "stdout",
     "output_type": "stream",
     "text": [
      "1\n"
     ]
    }
   ],
   "source": [
    "# 嵌套循环中的break（理解break只跳出当前循环）\n",
    "for i in range(3):\n",
    "    for j in range(i):\n",
    "        if i == 2:\n",
    "            break\n",
    "        print(i)"
   ]
  }
 ],
 "metadata": {
  "kernelspec": {
   "display_name": "Python 3",
   "language": "python",
   "name": "python3"
  },
  "language_info": {
   "codemirror_mode": {
    "name": "ipython",
    "version": 3
   },
   "file_extension": ".py",
   "mimetype": "text/x-python",
   "name": "python",
   "nbconvert_exporter": "python",
   "pygments_lexer": "ipython3",
   "version": "3.11.1 (tags/v3.11.1:a7a450f, Dec  6 2022, 19:58:39) [MSC v.1934 64 bit (AMD64)]"
  },
  "orig_nbformat": 4,
  "vscode": {
   "interpreter": {
    "hash": "22b6aa23ebdb95c31771a605332d65b96d6e70a70a8e5cf021766a53e709a3c7"
   }
  }
 },
 "nbformat": 4,
 "nbformat_minor": 2
}
