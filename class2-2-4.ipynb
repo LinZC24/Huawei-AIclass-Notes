{
 "cells": [
  {
   "attachments": {},
   "cell_type": "markdown",
   "metadata": {},
   "source": [
    "# 数据拷贝和运算符  \n",
    "## 数据拷贝  \n",
    "在Python中对数据拷贝可以根据形式不同分为深拷贝和浅拷贝  \n",
    "——浅拷贝(copy())，即对数据表面结构进行拷贝（对嵌套数据不能充分拷贝）。如果数据为嵌套结构，则嵌套结构里面的元素是对之前数据的引用。修改之前的数据会影响拷贝得到的数据  \n",
    "——深拷贝，解决了嵌套结构中深层结构只是引用的问题，对所有数据进行一次复制，修改之前的数据不会改变拷贝得到的数据"
   ]
  },
  {
   "cell_type": "code",
   "execution_count": 13,
   "metadata": {},
   "outputs": [],
   "source": [
    "# 数据赋值\n",
    "a = [1, 2, 3, [4, 5]]\n",
    "b = a # 赋值\n",
    "c = a.copy() # 浅拷贝\n",
    "\n",
    "import copy\n",
    "d = copy.deepcopy(a) # 深拷贝"
   ]
  },
  {
   "cell_type": "code",
   "execution_count": 14,
   "metadata": {},
   "outputs": [
    {
     "name": "stdout",
     "output_type": "stream",
     "text": [
      "a: [6, 2, 3, [4, 5]]\n",
      "b: [6, 2, 3, [4, 5]]\n",
      "c: [1, 2, 3, [4, 5]]\n",
      "d: [1, 2, 3, [4, 5]]\n"
     ]
    }
   ],
   "source": [
    "a[0] = 6 # 修改a的值\n",
    "print('a:', a)\n",
    "print('b:', b)\n",
    "print('c:', c)\n",
    "print('d:', d)"
   ]
  },
  {
   "cell_type": "code",
   "execution_count": 15,
   "metadata": {},
   "outputs": [
    {
     "name": "stdout",
     "output_type": "stream",
     "text": [
      "a: [6, 2, 3, [7, 5]]\n",
      "b: [6, 2, 3, [7, 5]]\n",
      "c: [1, 2, 3, [7, 5]]\n",
      "d: [1, 2, 3, [4, 5]]\n"
     ]
    }
   ],
   "source": [
    "# 修改嵌套列表的值\n",
    "a[3][0] = 7\n",
    "print('a:', a)\n",
    "print('b:', b)\n",
    "print('c:', c)\n",
    "print('d:', d)"
   ]
  },
  {
   "attachments": {},
   "cell_type": "markdown",
   "metadata": {},
   "source": [
    "## 运算符  \n",
    "赋值运算符"
   ]
  },
  {
   "cell_type": "code",
   "execution_count": 16,
   "metadata": {},
   "outputs": [
    {
     "name": "stdout",
     "output_type": "stream",
     "text": [
      "a += 1: 6\n",
      "a -= 1: 5\n",
      "a *= 2: 10\n",
      "a /= 2: 5.0\n"
     ]
    }
   ],
   "source": [
    "a = 5\n",
    "a += 1\n",
    "print('a += 1:', a)\n",
    "a -= 1\n",
    "print('a -= 1:', a)\n",
    "a *= 2\n",
    "print('a *= 2:', a)\n",
    "a /= 2\n",
    "print('a /= 2:', a)"
   ]
  },
  {
   "attachments": {},
   "cell_type": "markdown",
   "metadata": {},
   "source": [
    "比较运算符"
   ]
  },
  {
   "cell_type": "code",
   "execution_count": 17,
   "metadata": {},
   "outputs": [
    {
     "name": "stdout",
     "output_type": "stream",
     "text": [
      "False\n",
      "True\n",
      "False\n",
      "True\n"
     ]
    }
   ],
   "source": [
    "print(1 >= 2)\n",
    "print(1 <= 2)\n",
    "print(1 == 2)\n",
    "print(1 != 2)"
   ]
  },
  {
   "attachments": {},
   "cell_type": "markdown",
   "metadata": {},
   "source": [
    "逻辑运算符"
   ]
  },
  {
   "cell_type": "code",
   "execution_count": 18,
   "metadata": {},
   "outputs": [
    {
     "data": {
      "text/plain": [
       "False"
      ]
     },
     "execution_count": 18,
     "metadata": {},
     "output_type": "execute_result"
    }
   ],
   "source": [
    "True and False"
   ]
  },
  {
   "cell_type": "code",
   "execution_count": 19,
   "metadata": {},
   "outputs": [
    {
     "data": {
      "text/plain": [
       "True"
      ]
     },
     "execution_count": 19,
     "metadata": {},
     "output_type": "execute_result"
    }
   ],
   "source": [
    "True or False"
   ]
  },
  {
   "cell_type": "code",
   "execution_count": 20,
   "metadata": {},
   "outputs": [
    {
     "data": {
      "text/plain": [
       "False"
      ]
     },
     "execution_count": 20,
     "metadata": {},
     "output_type": "execute_result"
    }
   ],
   "source": [
    "not True"
   ]
  },
  {
   "attachments": {},
   "cell_type": "markdown",
   "metadata": {},
   "source": [
    "成员运算符(判断元素是否在某个序列中)"
   ]
  },
  {
   "cell_type": "code",
   "execution_count": 21,
   "metadata": {},
   "outputs": [
    {
     "data": {
      "text/plain": [
       "True"
      ]
     },
     "execution_count": 21,
     "metadata": {},
     "output_type": "execute_result"
    }
   ],
   "source": [
    "a = [1, 2, 3]\n",
    "1 in a"
   ]
  },
  {
   "cell_type": "code",
   "execution_count": 22,
   "metadata": {},
   "outputs": [
    {
     "data": {
      "text/plain": [
       "True"
      ]
     },
     "execution_count": 22,
     "metadata": {},
     "output_type": "execute_result"
    }
   ],
   "source": [
    "5 not in a"
   ]
  },
  {
   "attachments": {},
   "cell_type": "markdown",
   "metadata": {},
   "source": [
    "身份运算符   \n",
    "比对两个对象是否是一个对象，即两个对象对应数据的内存地址是否是同一个地址"
   ]
  },
  {
   "cell_type": "code",
   "execution_count": 23,
   "metadata": {},
   "outputs": [],
   "source": [
    "a = [1, 2]\n",
    "b = a\n",
    "c = a.copy()"
   ]
  },
  {
   "cell_type": "code",
   "execution_count": 24,
   "metadata": {},
   "outputs": [
    {
     "name": "stdout",
     "output_type": "stream",
     "text": [
      "True\n",
      "False\n",
      "True\n"
     ]
    }
   ],
   "source": [
    "print(a is b)\n",
    "print(a is c)\n",
    "print(a == b == c)"
   ]
  }
 ],
 "metadata": {
  "kernelspec": {
   "display_name": "Python 3",
   "language": "python",
   "name": "python3"
  },
  "language_info": {
   "codemirror_mode": {
    "name": "ipython",
    "version": 3
   },
   "file_extension": ".py",
   "mimetype": "text/x-python",
   "name": "python",
   "nbconvert_exporter": "python",
   "pygments_lexer": "ipython3",
   "version": "3.11.1 (tags/v3.11.1:a7a450f, Dec  6 2022, 19:58:39) [MSC v.1934 64 bit (AMD64)]"
  },
  "orig_nbformat": 4,
  "vscode": {
   "interpreter": {
    "hash": "22b6aa23ebdb95c31771a605332d65b96d6e70a70a8e5cf021766a53e709a3c7"
   }
  }
 },
 "nbformat": 4,
 "nbformat_minor": 2
}
