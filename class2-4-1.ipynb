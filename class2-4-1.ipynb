{
 "cells": [
  {
   "attachments": {},
   "cell_type": "markdown",
   "metadata": {},
   "source": [
    "# 函数  \n",
    "Python中除了内置函数以外，还可以使用关键字def和lambda来定义  \n",
    "## 自定义函数def  \n",
    "自定义一个函数，返回一个序列。序列中每个数字都是前两个数字之和（斐波那契数列）。"
   ]
  },
  {
   "cell_type": "code",
   "execution_count": 1,
   "metadata": {},
   "outputs": [
    {
     "data": {
      "text/plain": [
       "[0, 1, 1, 2, 3]"
      ]
     },
     "execution_count": 1,
     "metadata": {},
     "output_type": "execute_result"
    }
   ],
   "source": [
    "def fibs(num): # 位置参数\n",
    "  result = [0, 1] # 新建列表存储数列的值\n",
    "  for i in range(2, num): # 循环（num - 2）次\n",
    "    a = result[i - 1] + result[i - 2]\n",
    "    result.append(a) # 将值追加至列表\n",
    "  return result # 返回列表\n",
    "fibs(5)"
   ]
  },
  {
   "attachments": {},
   "cell_type": "markdown",
   "metadata": {},
   "source": [
    "### 自定义函数中不同的传入参数的方法\n",
    "————必备参数：必备参数必须以正确的顺序传入函数，调用时的数量必须与声明时的一样  \n",
    "————关键字参数函数：函数调用时使用等号赋值的形式传入参数(没有参数顺序的限制)  \n",
    "————默认参数：调用函数时，缺省参数的值如果没有传入，则被认为是默认值  \n",
    "————不定长参数：有时可能需要一个函数能处理比当初声明更多的参数，这些参数叫不定长参数，声明时不会命名。args,*kwargs:加了星号的变量args会存放所有为命名的变量参数，args为元组；而加了\"\\*\"的变量kwargs会存放命名参数，即形如key = value的参数，传参时要用等号赋值的形式传参，kwargs为字典"
   ]
  },
  {
   "cell_type": "code",
   "execution_count": 2,
   "metadata": {},
   "outputs": [
    {
     "name": "stdout",
     "output_type": "stream",
     "text": [
      "4\n",
      "()\n",
      "4\n",
      "()\n",
      "3\n",
      "()\n",
      "3\n",
      "(3, 4, 5)\n"
     ]
    }
   ],
   "source": [
    "def func(a = 1, b = 2, *args):\n",
    "  print(a + b)\n",
    "  print(args)\n",
    "\n",
    "# 必备参数\n",
    "func(0, 4)\n",
    "\n",
    "# 关键字参数\n",
    "func(b = 4, a= 0)\n",
    "\n",
    "# 默认参数\n",
    "func()\n",
    "\n",
    "# 不定长参数\n",
    "func(1, 2, 3, 4, 5)"
   ]
  },
  {
   "attachments": {},
   "cell_type": "markdown",
   "metadata": {},
   "source": [
    "## 匿名函数  \n",
    "lambda来创建匿名函数。相比于普通函数，匿名函数只是一个表达式，函数体比def简单很多，仅仅能在lambda表达式中封装有限的逻辑"
   ]
  },
  {
   "cell_type": "code",
   "execution_count": 3,
   "metadata": {},
   "outputs": [
    {
     "data": {
      "text/plain": [
       "3"
      ]
     },
     "execution_count": 3,
     "metadata": {},
     "output_type": "execute_result"
    }
   ],
   "source": [
    "a = lambda x, y: x + y # lambda 参数：表达式\n",
    "a(1, 2)"
   ]
  }
 ],
 "metadata": {
  "kernelspec": {
   "display_name": "Python 3",
   "language": "python",
   "name": "python3"
  },
  "language_info": {
   "codemirror_mode": {
    "name": "ipython",
    "version": 3
   },
   "file_extension": ".py",
   "mimetype": "text/x-python",
   "name": "python",
   "nbconvert_exporter": "python",
   "pygments_lexer": "ipython3",
   "version": "3.11.1 (tags/v3.11.1:a7a450f, Dec  6 2022, 19:58:39) [MSC v.1934 64 bit (AMD64)]"
  },
  "orig_nbformat": 4,
  "vscode": {
   "interpreter": {
    "hash": "22b6aa23ebdb95c31771a605332d65b96d6e70a70a8e5cf021766a53e709a3c7"
   }
  }
 },
 "nbformat": 4,
 "nbformat_minor": 2
}
