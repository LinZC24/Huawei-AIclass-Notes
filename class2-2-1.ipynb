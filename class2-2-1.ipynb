{
 "cells": [
  {
   "attachments": {},
   "cell_type": "markdown",
   "metadata": {},
   "source": [
    "# python的数据结构  \n",
    "## 内置数据结构  \n",
    "### 1.数值（Number）  \n",
    "支持int、float、bool、complex（复数）几种类型  \n",
    "P.S. bool由int类型而来"
   ]
  },
  {
   "cell_type": "code",
   "execution_count": 6,
   "metadata": {},
   "outputs": [
    {
     "name": "stdout",
     "output_type": "stream",
     "text": [
      "7\n",
      "3\n",
      "10\n",
      "2.5\n",
      "2\n",
      "1\n",
      "25\n"
     ]
    }
   ],
   "source": [
    "a = 5\n",
    "b = 2\n",
    "print(a + b)\n",
    "print(a - b)\n",
    "print(a * b)\n",
    "print(a / b) #python3中两个int类型相除不会取整，如果结果为小数会输出小数\n",
    "print(a // b) #两个斜杠为取整的除法\n",
    "print(a % b)\n",
    "print(a ** b) #a的b次方"
   ]
  },
  {
   "attachments": {},
   "cell_type": "markdown",
   "metadata": {},
   "source": [
    "## 2.字符串   \n",
    "python中字符串是一个由多个字符组成的序列，字符的个数为字符串的长度。python中没有字符，单个字符被认为长度为1的字符串。"
   ]
  },
  {
   "cell_type": "code",
   "execution_count": 7,
   "metadata": {},
   "outputs": [
    {
     "name": "stdout",
     "output_type": "stream",
     "text": [
      "Python\n",
      "Python\n",
      " python\n",
      "         this is python\n",
      "         string with many lines \n"
     ]
    }
   ],
   "source": [
    "#创建字符串\n",
    "s1 = \"Python\"\n",
    "s2 = 'Python' #单引号和双引号创建的字符串完全一样\n",
    "s3 = ''' python\n",
    "         this is python\n",
    "         string with many lines ''' #三引号字符串可以是多行字符串（类似多行注释）\n",
    "print(s1)\n",
    "print(s2)\n",
    "print(s3)"
   ]
  },
  {
   "cell_type": "code",
   "execution_count": 8,
   "metadata": {},
   "outputs": [
    {
     "data": {
      "text/plain": [
       "str"
      ]
     },
     "execution_count": 8,
     "metadata": {},
     "output_type": "execute_result"
    }
   ],
   "source": [
    "s = 'o'\n",
    "type(s)"
   ]
  },
  {
   "attachments": {},
   "cell_type": "markdown",
   "metadata": {},
   "source": [
    "### 转义字符"
   ]
  },
  {
   "cell_type": "code",
   "execution_count": 9,
   "metadata": {},
   "outputs": [
    {
     "name": "stdout",
     "output_type": "stream",
     "text": [
      "this\n",
      "is\n",
      "python\n"
     ]
    }
   ],
   "source": [
    "#使用单引号和双引号创建多行字符串时可以使用转义字符\\n实现（与c/c++中换行的转义字符相同）\n",
    "s = 'this\\nis\\npython'\n",
    "print(s)"
   ]
  },
  {
   "cell_type": "code",
   "execution_count": 11,
   "metadata": {},
   "outputs": [
    {
     "name": "stdout",
     "output_type": "stream",
     "text": [
      "python'\n"
     ]
    }
   ],
   "source": [
    "#转义字符还可以屏蔽字符的含义\n",
    "s = 'python\\''\n",
    "print(s)"
   ]
  },
  {
   "cell_type": "code",
   "execution_count": 10,
   "metadata": {},
   "outputs": [
    {
     "name": "stdout",
     "output_type": "stream",
     "text": [
      "Python\\\n"
     ]
    }
   ],
   "source": [
    "#字符串中打印“\\”需要写两个反斜杠\n",
    "s = 'Python\\\\'\n",
    "print(s)"
   ]
  },
  {
   "attachments": {},
   "cell_type": "markdown",
   "metadata": {},
   "source": [
    "### 原始字符串  \n",
    "在字符串前加入字母r"
   ]
  },
  {
   "cell_type": "code",
   "execution_count": 13,
   "metadata": {},
   "outputs": [
    {
     "name": "stdout",
     "output_type": "stream",
     "text": [
      "p\\y\\tho\\n\n"
     ]
    }
   ],
   "source": [
    "s = r'p\\y\\tho\\n'\n",
    "print(s) #原始字符串可以屏蔽反斜杠"
   ]
  },
  {
   "attachments": {},
   "cell_type": "markdown",
   "metadata": {},
   "source": [
    "### 字符串的操作   \n",
    "字符串的元素访问：字符串是一个有序（元素有对应下标）且不可变（定义之后不能修改）的结构"
   ]
  },
  {
   "cell_type": "code",
   "execution_count": 14,
   "metadata": {},
   "outputs": [
    {
     "data": {
      "text/plain": [
       "'P'"
      ]
     },
     "execution_count": 14,
     "metadata": {},
     "output_type": "execute_result"
    }
   ],
   "source": [
    "s = 'Python'\n",
    "s[0] #通过下标访问，下标从0开始，一直到（n - 1）"
   ]
  },
  {
   "cell_type": "code",
   "execution_count": 15,
   "metadata": {},
   "outputs": [
    {
     "ename": "TypeError",
     "evalue": "'str' object does not support item assignment",
     "output_type": "error",
     "traceback": [
      "\u001b[1;31m---------------------------------------------------------------------------\u001b[0m",
      "\u001b[1;31mTypeError\u001b[0m                                 Traceback (most recent call last)",
      "Cell \u001b[1;32mIn[15], line 2\u001b[0m\n\u001b[0;32m      1\u001b[0m \u001b[39m#字符串中的元素不可以修改  \u001b[39;00m\n\u001b[1;32m----> 2\u001b[0m s[\u001b[39m0\u001b[39;49m] \u001b[39m=\u001b[39m \u001b[39m'\u001b[39m\u001b[39m1\u001b[39m\u001b[39m'\u001b[39m\n",
      "\u001b[1;31mTypeError\u001b[0m: 'str' object does not support item assignment"
     ]
    }
   ],
   "source": [
    "#字符串中的元素不可以修改  \n",
    "s[0] = '1'"
   ]
  },
  {
   "attachments": {},
   "cell_type": "markdown",
   "metadata": {},
   "source": [
    "### 字符串的运算"
   ]
  },
  {
   "cell_type": "code",
   "execution_count": 16,
   "metadata": {},
   "outputs": [
    {
     "name": "stdout",
     "output_type": "stream",
     "text": [
      "helloworld\n"
     ]
    }
   ],
   "source": [
    "#加法运算，可以通过加号拼接字符串\n",
    "a = 'hello'\n",
    "b = 'world'\n",
    "print(a + b)"
   ]
  },
  {
   "cell_type": "code",
   "execution_count": 17,
   "metadata": {},
   "outputs": [
    {
     "name": "stdout",
     "output_type": "stream",
     "text": [
      "hello world!hello world!hello world!hello world!hello world!\n"
     ]
    }
   ],
   "source": [
    "#乘法运算，可以让字符串重复\n",
    "a = 'hello world!'\n",
    "b = 5\n",
    "print(a * b)"
   ]
  },
  {
   "attachments": {},
   "cell_type": "markdown",
   "metadata": {},
   "source": [
    "### 字符串的常用操作  \n",
    "字符串常用的操作提供了对应的方法，如切割、大小写替换、拼接等。这些方法不修改原有的字符串，而是生成新的字符串。"
   ]
  },
  {
   "cell_type": "code",
   "execution_count": 18,
   "metadata": {},
   "outputs": [
    {
     "data": {
      "text/plain": [
       "['Py', 'hon']"
      ]
     },
     "execution_count": 18,
     "metadata": {},
     "output_type": "execute_result"
    }
   ],
   "source": [
    "#切割\n",
    "#str.split(str[n]) 以str[n]为分隔符进行切割\n",
    "s = 'Python'\n",
    "s.split('t')"
   ]
  },
  {
   "cell_type": "code",
   "execution_count": 19,
   "metadata": {},
   "outputs": [
    {
     "data": {
      "text/plain": [
       "'Python'"
      ]
     },
     "execution_count": 19,
     "metadata": {},
     "output_type": "execute_result"
    }
   ],
   "source": [
    "#替换\n",
    "#str.replace(str1, str2) 将字符串中的str1替换成str2(不是修改原字符串，而是生成一个指定内容的新字符串)\n",
    "s = 'python'\n",
    "s.replace('p', 'P')"
   ]
  },
  {
   "cell_type": "code",
   "execution_count": 21,
   "metadata": {},
   "outputs": [
    {
     "name": "stdout",
     "output_type": "stream",
     "text": [
      "python\n",
      "PYTHON\n"
     ]
    }
   ],
   "source": [
    "#大小写替换\n",
    "#str.lower() 将字符串的大写字符转换为小写\n",
    "#str.upper() 将字符串的小写字符转换为大写\n",
    "s = 'PyThon'\n",
    "print(s.lower())\n",
    "print(s.upper())"
   ]
  },
  {
   "cell_type": "code",
   "execution_count": 22,
   "metadata": {},
   "outputs": [
    {
     "data": {
      "text/plain": [
       "'P_y_t_h_o_n'"
      ]
     },
     "execution_count": 22,
     "metadata": {},
     "output_type": "execute_result"
    }
   ],
   "source": [
    "#拼接\n",
    "#str.join(iter) 将所给参数中每个元素以指定的字符连接并生成一个新字符串\n",
    "'_'.join('Python')"
   ]
  },
  {
   "attachments": {},
   "cell_type": "markdown",
   "metadata": {},
   "source": [
    "### 格式化输出  \n",
    "格式化输出指将指定的数据按照给定格式进行输出。"
   ]
  },
  {
   "cell_type": "code",
   "execution_count": 24,
   "metadata": {},
   "outputs": [
    {
     "data": {
      "text/plain": [
       "\"My name is AI, I'm 18\""
      ]
     },
     "execution_count": 24,
     "metadata": {},
     "output_type": "execute_result"
    }
   ],
   "source": [
    "#格式化操作符为百分号（%）\n",
    "#格式化操作符、字符串转换类型和格式化操作符辅助指令实现格式化输出\n",
    "'My name is %s, I\\'m %d' %('AI', 18) #%起占位符的作用（类似c中的输入输出）"
   ]
  },
  {
   "cell_type": "code",
   "execution_count": null,
   "metadata": {},
   "outputs": [],
   "source": []
  }
 ],
 "metadata": {
  "kernelspec": {
   "display_name": "Python 3",
   "language": "python",
   "name": "python3"
  },
  "language_info": {
   "codemirror_mode": {
    "name": "ipython",
    "version": 3
   },
   "file_extension": ".py",
   "mimetype": "text/x-python",
   "name": "python",
   "nbconvert_exporter": "python",
   "pygments_lexer": "ipython3",
   "version": "3.11.1 (tags/v3.11.1:a7a450f, Dec  6 2022, 19:58:39) [MSC v.1934 64 bit (AMD64)]"
  },
  "orig_nbformat": 4,
  "vscode": {
   "interpreter": {
    "hash": "22b6aa23ebdb95c31771a605332d65b96d6e70a70a8e5cf021766a53e709a3c7"
   }
  }
 },
 "nbformat": 4,
 "nbformat_minor": 2
}
