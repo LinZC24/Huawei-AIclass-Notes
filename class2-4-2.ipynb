{
 "cells": [
  {
   "attachments": {},
   "cell_type": "markdown",
   "metadata": {},
   "source": [
    "# 面向对象   \n",
    "#### 面向对象：把数据和对数据的操作方法放在一起，作为一个相互依存的整体————对象。把计算机程序视为一组对象的集合，而每个对象都可以接受其他对象发来的消息，并处理这些消息，计算机程序的执行就是一系列消息在各个对象之间传递。  \n",
    "     \n",
    "面向对象的优势：  \n",
    "-提供代码复用性  \n",
    "-使程序编码更加灵活，提高代码可维护性  \n",
    "-提高程序可拓展性  \n",
    "-提高开发效率  \n",
    "   \n",
    "#### Python中创建类使用关键字class，并具备封装、多态和继承的特点  \n",
    "-封装：封装指把方法、属性、事件集中到一个统一的类中，并对使用者屏蔽其中的细节\n",
    "-继承：是一种创建类的方法，在现有类（被继承的类）基础上，进行拓展生成新的类，被称为子类。被继承的类称为父类、基类、超类\n",
    "-多态：一个同样的函数对于不同对象可以有不同的实现"
   ]
  },
  {
   "cell_type": "code",
   "execution_count": 2,
   "metadata": {},
   "outputs": [],
   "source": [
    "class Person(object): # class 类名（父类），在Python3中所有类默认继承object\n",
    "  # 缩进内容为类体，封装类的方法和属性\n",
    "  # 前后都有两个下划线的方法为魔法方法，已经具备特定的属性和作用\n",
    "  def __init__(self, age, name): # self：指实例化的对象(每个类中都要加上self)\n",
    "    self.age = age # 类属性\n",
    "    self.name = name\n",
    "  def func(self): # 方法\n",
    "    print('my name is %s'%(self.name))"
   ]
  },
  {
   "cell_type": "code",
   "execution_count": 3,
   "metadata": {},
   "outputs": [
    {
     "name": "stdout",
     "output_type": "stream",
     "text": [
      "18\n",
      "my name is 张三\n"
     ]
    }
   ],
   "source": [
    "# 实例化对象（通过等号赋值）\n",
    "p1 = Person(age = '18', name = '张三')\n",
    "print(p1.age)\n",
    "p1.func()"
   ]
  },
  {
   "attachments": {},
   "cell_type": "markdown",
   "metadata": {},
   "source": [
    "#### Python是一门动态语言"
   ]
  },
  {
   "cell_type": "code",
   "execution_count": 4,
   "metadata": {},
   "outputs": [],
   "source": [
    "p1.ID = 20220224 # 给p1添加属性"
   ]
  },
  {
   "cell_type": "code",
   "execution_count": 5,
   "metadata": {},
   "outputs": [
    {
     "name": "stdout",
     "output_type": "stream",
     "text": [
      "20220224\n"
     ]
    },
    {
     "ename": "AttributeError",
     "evalue": "type object 'Person' has no attribute 'ID'",
     "output_type": "error",
     "traceback": [
      "\u001b[1;31m---------------------------------------------------------------------------\u001b[0m",
      "\u001b[1;31mAttributeError\u001b[0m                            Traceback (most recent call last)",
      "Cell \u001b[1;32mIn[5], line 2\u001b[0m\n\u001b[0;32m      1\u001b[0m \u001b[39mprint\u001b[39m(p1\u001b[39m.\u001b[39mID)\n\u001b[1;32m----> 2\u001b[0m \u001b[39mprint\u001b[39m(Person\u001b[39m.\u001b[39;49mID)\n",
      "\u001b[1;31mAttributeError\u001b[0m: type object 'Person' has no attribute 'ID'"
     ]
    }
   ],
   "source": [
    "print(p1.ID)\n",
    "print(Person.ID) # ID没有添加到Person中"
   ]
  },
  {
   "cell_type": "code",
   "execution_count": 6,
   "metadata": {},
   "outputs": [],
   "source": [
    "# 继承\n",
    "class Man(Person):\n",
    "    pass"
   ]
  },
  {
   "cell_type": "code",
   "execution_count": 7,
   "metadata": {},
   "outputs": [
    {
     "name": "stdout",
     "output_type": "stream",
     "text": [
      "my name is 李四\n"
     ]
    }
   ],
   "source": [
    "m = Man(age= '19', name= '李四')\n",
    "m.func()"
   ]
  },
  {
   "attachments": {},
   "cell_type": "markdown",
   "metadata": {},
   "source": [
    "### 私有化   \n",
    "#### 默认情况下，属性在Python中都是\"public\"，类所在模块和导入了类所在模块的其他模块都能访问到。如果类中某些属性不想被外界访问或者继承可以对其私有化  \n",
    "-在属性或方法前加一个下划线\"_\"，它就只能在当前模块中使用  \n",
    "-在方法或属性前加双下划线，可以实现完全私有化"
   ]
  }
 ],
 "metadata": {
  "kernelspec": {
   "display_name": "Python 3",
   "language": "python",
   "name": "python3"
  },
  "language_info": {
   "codemirror_mode": {
    "name": "ipython",
    "version": 3
   },
   "file_extension": ".py",
   "mimetype": "text/x-python",
   "name": "python",
   "nbconvert_exporter": "python",
   "pygments_lexer": "ipython3",
   "version": "3.11.1"
  },
  "orig_nbformat": 4,
  "vscode": {
   "interpreter": {
    "hash": "22b6aa23ebdb95c31771a605332d65b96d6e70a70a8e5cf021766a53e709a3c7"
   }
  }
 },
 "nbformat": 4,
 "nbformat_minor": 2
}
