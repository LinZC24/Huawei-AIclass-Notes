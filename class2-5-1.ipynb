{
 "cells": [
  {
   "attachments": {},
   "cell_type": "markdown",
   "metadata": {},
   "source": [
    "# 文件读写  \n",
    "##### Python内置了读写文件的函数：open，返回要操作的文件对象   \n",
    "通常的用法需要三个参数：open(filename, mode, enconding)   \n",
    "-filename:包含要访问的文件名称的字符串值   \n",
    "-mode:决定打开文件的模式（r:只读、w:写入、a:追加；*b:二进制形式操作）   \n",
    "-encoding:  打开文件的编码格式，默认为UTF-8   \n",
    "##### 示例：f = open(\"file_name\", \"r\", encoding = \"UTF-8\") # 以只读形式打开文件\"file_name\"，编码格式为UTF-8"
   ]
  },
  {
   "cell_type": "code",
   "execution_count": 3,
   "metadata": {},
   "outputs": [],
   "source": [
    "f = open(\"text.txt\", 'w') # 打开文件text.txt，当文件不存在时在当前文件夹下新创建一个文件\n",
    "str = input('请输入要写入的内容：')\n",
    "f.write(str)\n",
    "f.close()"
   ]
  },
  {
   "cell_type": "code",
   "execution_count": 4,
   "metadata": {},
   "outputs": [
    {
     "name": "stdout",
     "output_type": "stream",
     "text": [
      "Python\n",
      " 2023/2/4 23:44\n"
     ]
    }
   ],
   "source": [
    "f = open('text.txt', 'r')\n",
    "print(f.read(6)) # 读取6个字符，当前光标后移6个字符\n",
    "print(f.read()) # 读取光标所在位置至最后\n",
    "f.close()"
   ]
  },
  {
   "cell_type": "code",
   "execution_count": 5,
   "metadata": {},
   "outputs": [
    {
     "name": "stdout",
     "output_type": "stream",
     "text": [
      "Python文件操作\n"
     ]
    }
   ],
   "source": [
    "# with：上下文管理器，可以默认进行一些辅助操作\n",
    "# 使用with语句进行文件写入\n",
    "with open('text1.txt', 'w') as f:\n",
    "  f.write('Python文件操作')\n",
    "# 使用with语句读取文件内容\n",
    "with open('text1.txt', 'r') as f:\n",
    "  print(f.read())"
   ]
  },
  {
   "attachments": {},
   "cell_type": "markdown",
   "metadata": {},
   "source": [
    "# 异常捕获  \n",
    "##### 程序出现问题大多为两种情况：  \n",
    "-编码错误：代码编写时（运行前）出现问题  \n",
    "-异常：在运行时出现错误（比如被除数为0、列表下标越界、修改字符串等）"
   ]
  },
  {
   "cell_type": "code",
   "execution_count": 6,
   "metadata": {},
   "outputs": [
    {
     "ename": "ZeroDivisionError",
     "evalue": "division by zero",
     "output_type": "error",
     "traceback": [
      "\u001b[1;31m---------------------------------------------------------------------------\u001b[0m",
      "\u001b[1;31mZeroDivisionError\u001b[0m                         Traceback (most recent call last)",
      "Cell \u001b[1;32mIn[6], line 1\u001b[0m\n\u001b[1;32m----> 1\u001b[0m \u001b[39mprint\u001b[39m(\u001b[39m1\u001b[39;49m \u001b[39m/\u001b[39;49m \u001b[39m0\u001b[39;49m)\n",
      "\u001b[1;31mZeroDivisionError\u001b[0m: division by zero"
     ]
    }
   ],
   "source": [
    "print(1 / 0)"
   ]
  },
  {
   "cell_type": "code",
   "execution_count": 7,
   "metadata": {},
   "outputs": [
    {
     "name": "stdout",
     "output_type": "stream",
     "text": [
      "division by zero\n"
     ]
    },
    {
     "ename": "",
     "evalue": "",
     "output_type": "error",
     "traceback": [
      "\u001b[1;31m在当前单元格或上一个单元格中执行代码时 Kernel 崩溃。请查看单元格中的代码，以确定故障的可能原因。有关详细信息，请单击 <a href='https://aka.ms/vscodeJupyterKernelCrash'>此处</a>。有关更多详细信息，请查看 Jupyter <a href='command:jupyter.viewOutput'>log</a>。"
     ]
    }
   ],
   "source": [
    "# 使用try except 捕获异常\n",
    "try: # try后为执行时可能出现问题的语句\n",
    "    print(1 / 0)\n",
    "except Exception as e: # except后为捕获到异常后执行的语句\n",
    "    # Exception为捕获所有异常\n",
    "    print(e)"
   ]
  }
 ],
 "metadata": {
  "kernelspec": {
   "display_name": "Python 3",
   "language": "python",
   "name": "python3"
  },
  "language_info": {
   "codemirror_mode": {
    "name": "ipython",
    "version": 3
   },
   "file_extension": ".py",
   "mimetype": "text/x-python",
   "name": "python",
   "nbconvert_exporter": "python",
   "pygments_lexer": "ipython3",
   "version": "3.11.1"
  },
  "orig_nbformat": 4,
  "vscode": {
   "interpreter": {
    "hash": "d7b20df62e67a148dfbbd761d0e7dd7a9c67ef514495ac6218abdf27193038c3"
   }
  }
 },
 "nbformat": 4,
 "nbformat_minor": 2
}
