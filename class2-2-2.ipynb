{
 "cells": [
  {
   "attachments": {},
   "cell_type": "markdown",
   "metadata": {},
   "source": [
    "# 列表和元组  \n",
    "## 列表  \n",
    "列表是一个序列，其中的元素可以是任意的数据类型，并且可以随时添加或删除元素。List = [obj1, obj2, ......]"
   ]
  },
  {
   "cell_type": "code",
   "execution_count": 22,
   "metadata": {},
   "outputs": [
    {
     "data": {
      "text/plain": [
       "3"
      ]
     },
     "execution_count": 22,
     "metadata": {},
     "output_type": "execute_result"
    }
   ],
   "source": [
    "l = [1, 2, 3] # 创建一个列表\n",
    "l[2] # 用下标访问列表中的元素"
   ]
  },
  {
   "cell_type": "code",
   "execution_count": 23,
   "metadata": {},
   "outputs": [
    {
     "name": "stdout",
     "output_type": "stream",
     "text": [
      "[1, 0, 3]\n"
     ]
    }
   ],
   "source": [
    "# 修改列表中的元素\n",
    "l[1] = 0\n",
    "print(l)"
   ]
  },
  {
   "attachments": {},
   "cell_type": "markdown",
   "metadata": {},
   "source": [
    "### 列表运算符\n",
    "列表中的运算符与字符串相同（只支持加法和乘法）"
   ]
  },
  {
   "cell_type": "code",
   "execution_count": 24,
   "metadata": {},
   "outputs": [
    {
     "name": "stdout",
     "output_type": "stream",
     "text": [
      "[1, 2, 3, 1, 2, 3]\n",
      "[1, 2, 3, 4, 5]\n"
     ]
    }
   ],
   "source": [
    "a = [1, 2, 3]\n",
    "b = [4, 5]\n",
    "#乘法\n",
    "print(a * 2)\n",
    "#加法\n",
    "print(a + b)"
   ]
  },
  {
   "attachments": {},
   "cell_type": "markdown",
   "metadata": {},
   "source": [
    "列表中有很多方法用于列表数据操作"
   ]
  },
  {
   "attachments": {},
   "cell_type": "markdown",
   "metadata": {},
   "source": [
    "### 在列表中添加元素"
   ]
  },
  {
   "attachments": {},
   "cell_type": "markdown",
   "metadata": {},
   "source": [
    "#### append方法（在末尾添加元素）"
   ]
  },
  {
   "cell_type": "code",
   "execution_count": 25,
   "metadata": {},
   "outputs": [
    {
     "name": "stdout",
     "output_type": "stream",
     "text": [
      "['cat', 'dog', 'monkey']\n",
      "['cat', 'dog', 'monkey', 'bird']\n"
     ]
    }
   ],
   "source": [
    "# 给列表添加数据(append方法)\n",
    "animals = ['cat', 'dog', 'monkey']\n",
    "print(animals)\n",
    "# list.append(obj) 在列表末尾添加新的对象\n",
    "animals.append('bird') # 添加一个元素\n",
    "print(animals)"
   ]
  },
  {
   "attachments": {},
   "cell_type": "markdown",
   "metadata": {},
   "source": [
    "#### insert方法（在指定位置插入对象）"
   ]
  },
  {
   "cell_type": "code",
   "execution_count": 26,
   "metadata": {},
   "outputs": [
    {
     "name": "stdout",
     "output_type": "stream",
     "text": [
      "['cat', 'dog', 'monkey', 'bird']\n",
      "['cat', 'bird', 'dog', 'monkey', 'bird']\n"
     ]
    }
   ],
   "source": [
    "# list.insert(index, obj) 将指定对象obj插入下标为insert的指定位置\n",
    "print(animals)\n",
    "animals.insert(1, 'bird')\n",
    "print(animals)"
   ]
  },
  {
   "attachments": {},
   "cell_type": "markdown",
   "metadata": {},
   "source": [
    "### 在列表中删除元素  "
   ]
  },
  {
   "attachments": {},
   "cell_type": "markdown",
   "metadata": {},
   "source": [
    "#### remove方法（移除某个值的第一个匹配项）"
   ]
  },
  {
   "cell_type": "code",
   "execution_count": 27,
   "metadata": {},
   "outputs": [
    {
     "name": "stdout",
     "output_type": "stream",
     "text": [
      "['cat', 'bird', 'dog', 'monkey', 'bird']\n",
      "['cat', 'dog', 'monkey', 'bird']\n"
     ]
    }
   ],
   "source": [
    "# list.remove(obj) 移除obj的第一个匹配项\n",
    "print(animals)\n",
    "animals.remove('bird')\n",
    "print(animals)"
   ]
  },
  {
   "attachments": {},
   "cell_type": "markdown",
   "metadata": {},
   "source": [
    "#### pop方法（移除列表中对下标对应的元素（默认是最后一个））"
   ]
  },
  {
   "cell_type": "code",
   "execution_count": 28,
   "metadata": {},
   "outputs": [
    {
     "name": "stdout",
     "output_type": "stream",
     "text": [
      "['cat', 'dog', 'monkey', 'bird']\n",
      "bird\n",
      "['cat', 'dog', 'monkey']\n",
      "dog\n",
      "['cat', 'monkey']\n"
     ]
    }
   ],
   "source": [
    "#list.pop([index = -1]) 移除列表中index处的元素，同时将其返回。index为元素的下标\n",
    "print(animals)\n",
    "temp1 = animals.pop()\n",
    "print(temp1)\n",
    "print(animals)\n",
    "temp2 = animals.pop(1)\n",
    "print(temp2)\n",
    "print(animals)"
   ]
  },
  {
   "attachments": {},
   "cell_type": "markdown",
   "metadata": {},
   "source": [
    "### 取出列表中某些元素的方法"
   ]
  },
  {
   "attachments": {},
   "cell_type": "markdown",
   "metadata": {},
   "source": [
    "#### enumerate方法  \n",
    "将一个可遍历的数据对象组合为一个索引序列，同时列出数据和数据下标，一般用在for循环当中"
   ]
  },
  {
   "cell_type": "code",
   "execution_count": 29,
   "metadata": {},
   "outputs": [
    {
     "name": "stdout",
     "output_type": "stream",
     "text": [
      "(0, 'cat')\n",
      "(1, 'monkey')\n"
     ]
    }
   ],
   "source": [
    "# 遍历并获取元素和对应索引\n",
    "for i in enumerate(animals):\n",
    "    print(i)"
   ]
  },
  {
   "attachments": {},
   "cell_type": "markdown",
   "metadata": {},
   "source": [
    "### 另外的创建列表的方式"
   ]
  },
  {
   "cell_type": "code",
   "execution_count": 30,
   "metadata": {},
   "outputs": [
    {
     "name": "stdout",
     "output_type": "stream",
     "text": [
      "['catcat', 'monkeymonkey']\n"
     ]
    }
   ],
   "source": [
    "# 列表推导式(生成符合表达式的元素)\n",
    "squares = [x * 2 for x in animals] # 批量生成符合规则的元素组成的列表\n",
    "print(squares)"
   ]
  },
  {
   "attachments": {},
   "cell_type": "markdown",
   "metadata": {},
   "source": [
    "### 对列表进行排序\n",
    "#### 列表排序：sort方法  "
   ]
  },
  {
   "cell_type": "code",
   "execution_count": 31,
   "metadata": {},
   "outputs": [
    {
     "name": "stdout",
     "output_type": "stream",
     "text": [
      "[77, 24, 30, 23, 35]\n",
      "[23, 24, 30, 35, 77]\n",
      "[77, 35, 30, 24, 23]\n"
     ]
    }
   ],
   "source": [
    "list1 = [77, 24, 30, 23, 35]\n",
    "print(list1)\n",
    "# list.sort(cmp = None, key = None, reverse = False) cmp为可选参数，会使用该参数的方法进行排序，key是用来比较的元素，reverse为排序规则，默认参数False为升序。\n",
    "list1.sort()\n",
    "print(list1)\n",
    "list1.sort(reverse = True)\n",
    "print(list1)"
   ]
  },
  {
   "attachments": {},
   "cell_type": "markdown",
   "metadata": {},
   "source": [
    "注意：sort方法直接在原列表基础上进行排序，会修改原数据"
   ]
  },
  {
   "attachments": {},
   "cell_type": "markdown",
   "metadata": {},
   "source": [
    "### 反转列表中的元素：reverse方法"
   ]
  },
  {
   "cell_type": "code",
   "execution_count": 32,
   "metadata": {},
   "outputs": [
    {
     "name": "stdout",
     "output_type": "stream",
     "text": [
      "[77, 35, 30, 24, 23]\n",
      "[23, 24, 30, 35, 77]\n"
     ]
    }
   ],
   "source": [
    "# list.reverse() 反转列表中的元素\n",
    "print(list1)\n",
    "list1.reverse()\n",
    "print(list1)"
   ]
  },
  {
   "attachments": {},
   "cell_type": "markdown",
   "metadata": {},
   "source": [
    "注意：reverse方法直接在原列表基础上进行排序，会修改原数据"
   ]
  },
  {
   "attachments": {},
   "cell_type": "markdown",
   "metadata": {},
   "source": [
    "### 切片和索引  \n",
    "#### 索引"
   ]
  },
  {
   "cell_type": "code",
   "execution_count": 33,
   "metadata": {},
   "outputs": [
    {
     "data": {
      "text/plain": [
       "4"
      ]
     },
     "execution_count": 33,
     "metadata": {},
     "output_type": "execute_result"
    }
   ],
   "source": [
    "l = [1, 2, 3, [4, 5]]\n",
    "l[3][0] # 索引的访问从0到（n - 1）所有有序序列都能使用"
   ]
  },
  {
   "attachments": {},
   "cell_type": "markdown",
   "metadata": {},
   "source": [
    "#### 切片\n",
    "list[start: end: step] start为0时可以省略，end为（n - 1）时可以省略，step为1时可以省略"
   ]
  },
  {
   "cell_type": "code",
   "execution_count": 34,
   "metadata": {},
   "outputs": [
    {
     "data": {
      "text/plain": [
       "[0, 1, 2, 3, 4, 5]"
      ]
     },
     "execution_count": 34,
     "metadata": {},
     "output_type": "execute_result"
    }
   ],
   "source": [
    "# list[start: end: step] start为0时可以省略，end为（n - 1）时可以省略，step为1时可以省略\n",
    "l = [0, 1, 2, 3, 4, 5]\n",
    "l[: :]"
   ]
  },
  {
   "attachments": {},
   "cell_type": "markdown",
   "metadata": {},
   "source": [
    "P.S:在索引和切片中，支持负数  \n",
    "P.P.S:切片中负数指反序操作"
   ]
  },
  {
   "cell_type": "code",
   "execution_count": 35,
   "metadata": {},
   "outputs": [
    {
     "data": {
      "text/plain": [
       "[1, 3]"
      ]
     },
     "execution_count": 35,
     "metadata": {},
     "output_type": "execute_result"
    }
   ],
   "source": [
    "l[1: 4: 2]"
   ]
  },
  {
   "attachments": {},
   "cell_type": "markdown",
   "metadata": {},
   "source": [
    "## 元组  \n",
    "元组时一个不可变的有序序列，类似于字符串，但是元组中的元素可以是任意对象。元组的形式为小括号包裹元素：(obj1, obj2, ......)"
   ]
  },
  {
   "attachments": {},
   "cell_type": "markdown",
   "metadata": {},
   "source": [
    "### 创建元组"
   ]
  },
  {
   "cell_type": "code",
   "execution_count": 36,
   "metadata": {},
   "outputs": [
    {
     "name": "stdout",
     "output_type": "stream",
     "text": [
      "(1, [1, 2], 'Python')\n",
      "<class 'tuple'>\n"
     ]
    }
   ],
   "source": [
    "# 创建元组\n",
    "t = (1, [1, 2], 'Python')\n",
    "print(t)\n",
    "print(type(t))"
   ]
  },
  {
   "attachments": {},
   "cell_type": "markdown",
   "metadata": {},
   "source": [
    "### 创建单个元素的元组  \n",
    "创建单个元素的元素，需要用“，”来表明是元组"
   ]
  },
  {
   "cell_type": "code",
   "execution_count": 37,
   "metadata": {},
   "outputs": [
    {
     "name": "stdout",
     "output_type": "stream",
     "text": [
      "t1 <class 'int'>\n",
      "t2 <class 'tuple'>\n"
     ]
    }
   ],
   "source": [
    "#\n",
    "t1 = (5)\n",
    "t2 = (5,) # 创建单个元素的元素，需要用“，”来表明是元组\n",
    "print(\"t1\", type(t1))\n",
    "print('t2', type(t2))"
   ]
  },
  {
   "attachments": {},
   "cell_type": "markdown",
   "metadata": {},
   "source": [
    "### 通过下标访问元组的元素"
   ]
  },
  {
   "cell_type": "code",
   "execution_count": 38,
   "metadata": {},
   "outputs": [
    {
     "name": "stdout",
     "output_type": "stream",
     "text": [
      "2\n"
     ]
    }
   ],
   "source": [
    "t = (1, 2, 3)\n",
    "print(t[1])"
   ]
  },
  {
   "cell_type": "code",
   "execution_count": 39,
   "metadata": {},
   "outputs": [
    {
     "ename": "TypeError",
     "evalue": "'tuple' object does not support item assignment",
     "output_type": "error",
     "traceback": [
      "\u001b[1;31m---------------------------------------------------------------------------\u001b[0m",
      "\u001b[1;31mTypeError\u001b[0m                                 Traceback (most recent call last)",
      "Cell \u001b[1;32mIn[39], line 2\u001b[0m\n\u001b[0;32m      1\u001b[0m \u001b[39m# 元组不可变，修改数据会报错\u001b[39;00m\n\u001b[1;32m----> 2\u001b[0m t[\u001b[39m1\u001b[39;49m] \u001b[39m=\u001b[39m \u001b[39m0\u001b[39m\n",
      "\u001b[1;31mTypeError\u001b[0m: 'tuple' object does not support item assignment"
     ]
    }
   ],
   "source": [
    "# 元组不可变，修改数据会报错\n",
    "t[1] = 0"
   ]
  },
  {
   "cell_type": "code",
   "execution_count": null,
   "metadata": {},
   "outputs": [
    {
     "data": {
      "text/plain": [
       "(1, 2, [3, 5])"
      ]
     },
     "execution_count": 21,
     "metadata": {},
     "output_type": "execute_result"
    }
   ],
   "source": [
    "# 元组中的元素为列表时，列表的元素可以修改，借此可以实现变相修改元组的元素\n",
    "t = (1, 2, [3, 4]) # 不推荐这样使用\n",
    "t[2][1] = 5\n",
    "t"
   ]
  }
 ],
 "metadata": {
  "kernelspec": {
   "display_name": "Python 3",
   "language": "python",
   "name": "python3"
  },
  "language_info": {
   "codemirror_mode": {
    "name": "ipython",
    "version": 3
   },
   "file_extension": ".py",
   "mimetype": "text/x-python",
   "name": "python",
   "nbconvert_exporter": "python",
   "pygments_lexer": "ipython3",
   "version": "3.11.1 (tags/v3.11.1:a7a450f, Dec  6 2022, 19:58:39) [MSC v.1934 64 bit (AMD64)]"
  },
  "orig_nbformat": 4,
  "vscode": {
   "interpreter": {
    "hash": "22b6aa23ebdb95c31771a605332d65b96d6e70a70a8e5cf021766a53e709a3c7"
   }
  }
 },
 "nbformat": 4,
 "nbformat_minor": 2
}
