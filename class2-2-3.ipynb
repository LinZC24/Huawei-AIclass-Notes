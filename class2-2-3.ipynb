{
 "cells": [
  {
   "attachments": {},
   "cell_type": "markdown",
   "metadata": {},
   "source": [
    "# 字典和集合  \n",
    "## 字典  \n",
    "字典的每个元素由两部分组成：-键和值。所以字典的元素也被称为键值对。  \n",
    "其中键是不可变且唯一的，如果字典有相同的键，则后面的键对应的值会覆盖前面的值。  \n",
    "数据量大时，字典数据的访问速度比列表快。  \n",
    "字典由一对花括号包裹，元素由逗号隔开：{key: value}   \n",
    "### 创建字典  \n",
    "创建字典的三种方式"
   ]
  },
  {
   "cell_type": "code",
   "execution_count": 1,
   "metadata": {},
   "outputs": [
    {
     "name": "stdout",
     "output_type": "stream",
     "text": [
      "{'food': 'Spam', 'quantity': 4, 'color': 'pink'}\n",
      "{'food': 'Spam', 'quantity': 4, 'color': 'pink'}\n",
      "{'food': 'Spam', 'quantity': 4, 'color': 'pink'}\n"
     ]
    }
   ],
   "source": [
    "# 等号赋值（使用最多）\n",
    "x = {'food': 'Spam', 'quantity': 4, 'color': 'pink'}\n",
    "# 用dict声明\n",
    "x2 = dict(food = 'Spam', quantity = 4, color = 'pink')\n",
    "# 使用元组赋值\n",
    "x3 = dict([('food', 'Spam'), ('quantity', 4), ('color', 'pink')])\n",
    "\n",
    "print(x)\n",
    "print(x2)\n",
    "print(x3)"
   ]
  },
  {
   "attachments": {},
   "cell_type": "markdown",
   "metadata": {},
   "source": [
    "### 字典数据有关操作   \n",
    "使用键获取值"
   ]
  },
  {
   "cell_type": "code",
   "execution_count": 2,
   "metadata": {},
   "outputs": [
    {
     "name": "stdout",
     "output_type": "stream",
     "text": [
      "Spam\n"
     ]
    },
    {
     "ename": "KeyError",
     "evalue": "'x'",
     "output_type": "error",
     "traceback": [
      "\u001b[1;31m---------------------------------------------------------------------------\u001b[0m",
      "\u001b[1;31mKeyError\u001b[0m                                  Traceback (most recent call last)",
      "Cell \u001b[1;32mIn[2], line 2\u001b[0m\n\u001b[0;32m      1\u001b[0m \u001b[39mprint\u001b[39m(x[\u001b[39m'\u001b[39m\u001b[39mfood\u001b[39m\u001b[39m'\u001b[39m])\n\u001b[1;32m----> 2\u001b[0m \u001b[39mprint\u001b[39m(x[\u001b[39m'\u001b[39;49m\u001b[39mx\u001b[39;49m\u001b[39m'\u001b[39;49m]) \u001b[39m#如果试图访问不存在的键则会报错\u001b[39;00m\n",
      "\u001b[1;31mKeyError\u001b[0m: 'x'"
     ]
    }
   ],
   "source": [
    "print(x['food'])\n",
    "print(x['x']) #如果试图访问不存在的键则会报错"
   ]
  },
  {
   "attachments": {},
   "cell_type": "markdown",
   "metadata": {},
   "source": [
    "使用get(key, ['str'])方法获取数据"
   ]
  },
  {
   "cell_type": "code",
   "execution_count": 3,
   "metadata": {},
   "outputs": [
    {
     "name": "stdout",
     "output_type": "stream",
     "text": [
      "Spam\n",
      "None\n",
      "x不存在\n"
     ]
    }
   ],
   "source": [
    "print(x.get('food'))\n",
    "print(x.get('x')) #使用get方法获取数据时，如果键不存在会返回指定的值str\n",
    "print(x.get('x', 'x不存在'))"
   ]
  },
  {
   "attachments": {},
   "cell_type": "markdown",
   "metadata": {},
   "source": [
    "查看所有的键/所有的值/所有的键值对"
   ]
  },
  {
   "cell_type": "code",
   "execution_count": 4,
   "metadata": {},
   "outputs": [
    {
     "name": "stdout",
     "output_type": "stream",
     "text": [
      "dict_keys(['food', 'quantity', 'color'])\n",
      "dict_values(['Spam', 4, 'pink'])\n",
      "dict_items([('food', 'Spam'), ('quantity', 4), ('color', 'pink')])\n"
     ]
    }
   ],
   "source": [
    "# 查看所有的键\n",
    "print(x.keys())\n",
    "# 查看所有的值\n",
    "print(x.values())\n",
    "# 查看所有的键值对\n",
    "print(x.items())"
   ]
  },
  {
   "attachments": {},
   "cell_type": "markdown",
   "metadata": {},
   "source": [
    "向字典中插入数据"
   ]
  },
  {
   "cell_type": "code",
   "execution_count": 5,
   "metadata": {},
   "outputs": [
    {
     "name": "stdout",
     "output_type": "stream",
     "text": [
      "{'food': 'Spam', 'quantity': 4, 'color': 'pink', 'x': 'x'}\n"
     ]
    }
   ],
   "source": [
    "# 只需要给不存在的键赋值\n",
    "x['x'] = 'x'\n",
    "print(x)"
   ]
  },
  {
   "attachments": {},
   "cell_type": "markdown",
   "metadata": {},
   "source": [
    "修改字典中的数据"
   ]
  },
  {
   "cell_type": "code",
   "execution_count": 6,
   "metadata": {},
   "outputs": [
    {
     "name": "stdout",
     "output_type": "stream",
     "text": [
      "{'food': 'Spam', 'quantity': 4, 'color': 'pink', 'x': 0}\n"
     ]
    }
   ],
   "source": [
    "# 对已存在的键重新赋值即可\n",
    "x['x'] = 0\n",
    "print(x)"
   ]
  },
  {
   "attachments": {},
   "cell_type": "markdown",
   "metadata": {},
   "source": [
    "## 集合  \n",
    "集合中的元素是唯一的，重复的元素会被删除。集合由一个花括号包裹，内部元素以逗号隔开：{obj1, obj2, ......}"
   ]
  },
  {
   "cell_type": "code",
   "execution_count": 7,
   "metadata": {},
   "outputs": [
    {
     "name": "stdout",
     "output_type": "stream",
     "text": [
      "False\n"
     ]
    }
   ],
   "source": [
    "sample_set = {'Prince', 'Techs'}\n",
    "print('Data' in sample_set) # in的作用是检查集合中是否存在某一元素"
   ]
  },
  {
   "attachments": {},
   "cell_type": "markdown",
   "metadata": {},
   "source": [
    "给集合添加元素（add方法）"
   ]
  },
  {
   "cell_type": "code",
   "execution_count": 8,
   "metadata": {},
   "outputs": [
    {
     "name": "stdout",
     "output_type": "stream",
     "text": [
      "{'Techs', 'Data', 'Prince'}\n",
      "3\n",
      "{'Techs', 'Data', 'Prince'}\n",
      "3\n"
     ]
    }
   ],
   "source": [
    "# set.add(obj) 给集合添加元素，如果添加的元素在集合中已经存在，则不执行任何操作\n",
    "sample_set.add('Data')\n",
    "print(sample_set)\n",
    "print(len(sample_set))\n",
    "sample_set.add('Techs')\n",
    "print(sample_set)\n",
    "print(len(sample_set))"
   ]
  },
  {
   "attachments": {},
   "cell_type": "markdown",
   "metadata": {},
   "source": [
    "移除集合中的元素（remove方法）"
   ]
  },
  {
   "cell_type": "code",
   "execution_count": 9,
   "metadata": {},
   "outputs": [
    {
     "name": "stdout",
     "output_type": "stream",
     "text": [
      "{'Techs', 'Prince'}\n"
     ]
    }
   ],
   "source": [
    "# set.remove(obj) 移除集合中的指定元素\n",
    "sample_set.remove('Data')\n",
    "print(sample_set)"
   ]
  },
  {
   "attachments": {},
   "cell_type": "markdown",
   "metadata": {},
   "source": [
    "利用集合元素唯一性对列表去重"
   ]
  },
  {
   "cell_type": "code",
   "execution_count": 10,
   "metadata": {},
   "outputs": [
    {
     "name": "stdout",
     "output_type": "stream",
     "text": [
      "[1, 3, 5, 7]\n"
     ]
    }
   ],
   "source": [
    "list2 = [1, 3, 5, 7, 3, 1, 5]\n",
    "print(list(set(list2)))\n",
    "sample_set = frozenset(sample_set) # 不可变集合"
   ]
  }
 ],
 "metadata": {
  "kernelspec": {
   "display_name": "Python 3",
   "language": "python",
   "name": "python3"
  },
  "language_info": {
   "codemirror_mode": {
    "name": "ipython",
    "version": 3
   },
   "file_extension": ".py",
   "mimetype": "text/x-python",
   "name": "python",
   "nbconvert_exporter": "python",
   "pygments_lexer": "ipython3",
   "version": "3.11.1"
  },
  "orig_nbformat": 4,
  "vscode": {
   "interpreter": {
    "hash": "22b6aa23ebdb95c31771a605332d65b96d6e70a70a8e5cf021766a53e709a3c7"
   }
  }
 },
 "nbformat": 4,
 "nbformat_minor": 2
}
